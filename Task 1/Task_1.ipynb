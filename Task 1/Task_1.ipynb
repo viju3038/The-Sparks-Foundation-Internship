{
  "nbformat": 4,
  "nbformat_minor": 0,
  "metadata": {
    "colab": {
      "name": "Task-1.ipynb",
      "provenance": [],
      "collapsed_sections": [],
      "toc_visible": true
    },
    "kernelspec": {
      "name": "python3",
      "display_name": "Python 3"
    },
    "language_info": {
      "name": "python"
    }
  },
  "cells": [
    {
      "cell_type": "markdown",
      "metadata": {
        "id": "0az_R48sqY5t"
      },
      "source": [
        "\n",
        "# **Author : Vijay Rana**\n",
        "### **Task 1 : Prediction using Supervised Machine Learning**\n",
        "### **GRIP @ The Sparks Foundation**\n",
        "\n",
        "In this regression task I tried to predict student score based upon the number of hours they studied.\n",
        "\n",
        "This is a **Simple Linear Regression** task as it involves just two variables **(Hours , Scores)**.\n",
        "\n",
        "### **importing libraries : Sikit Learn, Numpy Array, Pandas, Matplotlib**"
      ]
    },
    {
      "cell_type": "code",
      "metadata": {
        "id": "BdZx3qGEr0uC"
      },
      "source": [
        "# Importing the required libraries\n",
        "from sklearn.model_selection import train_test_split \n",
        "from sklearn.linear_model import LinearRegression\n",
        "import numpy as np\n",
        "import pandas as pd\n",
        "import matplotlib.pyplot as plt"
      ],
      "execution_count": 3,
      "outputs": []
    },
    {
      "cell_type": "markdown",
      "metadata": {
        "id": "1hdvPZoPr8S1"
      },
      "source": [
        "### **Step 1 - Reading the data from source file**"
      ]
    },
    {
      "cell_type": "code",
      "metadata": {
        "id": "QmAmQdbusetB",
        "colab": {
          "base_uri": "https://localhost:8080/",
          "height": 365
        },
        "outputId": "906393af-3b26-4de0-e492-6287bd8977b5"
      },
      "source": [
        "# Reading data from link\n",
        "url = r\"https://raw.githubusercontent.com/AdiPersonalWorks/Random/master/student_scores%20-%20student_scores.csv\"\n",
        "df = pd.read_csv(url)\n",
        "\n",
        "print(\"Dataset : \")\n",
        "df.head(10)"
      ],
      "execution_count": 4,
      "outputs": [
        {
          "output_type": "stream",
          "text": [
            "Dataset : \n"
          ],
          "name": "stdout"
        },
        {
          "output_type": "execute_result",
          "data": {
            "text/html": [
              "<div>\n",
              "<style scoped>\n",
              "    .dataframe tbody tr th:only-of-type {\n",
              "        vertical-align: middle;\n",
              "    }\n",
              "\n",
              "    .dataframe tbody tr th {\n",
              "        vertical-align: top;\n",
              "    }\n",
              "\n",
              "    .dataframe thead th {\n",
              "        text-align: right;\n",
              "    }\n",
              "</style>\n",
              "<table border=\"1\" class=\"dataframe\">\n",
              "  <thead>\n",
              "    <tr style=\"text-align: right;\">\n",
              "      <th></th>\n",
              "      <th>Hours</th>\n",
              "      <th>Scores</th>\n",
              "    </tr>\n",
              "  </thead>\n",
              "  <tbody>\n",
              "    <tr>\n",
              "      <th>0</th>\n",
              "      <td>2.5</td>\n",
              "      <td>21</td>\n",
              "    </tr>\n",
              "    <tr>\n",
              "      <th>1</th>\n",
              "      <td>5.1</td>\n",
              "      <td>47</td>\n",
              "    </tr>\n",
              "    <tr>\n",
              "      <th>2</th>\n",
              "      <td>3.2</td>\n",
              "      <td>27</td>\n",
              "    </tr>\n",
              "    <tr>\n",
              "      <th>3</th>\n",
              "      <td>8.5</td>\n",
              "      <td>75</td>\n",
              "    </tr>\n",
              "    <tr>\n",
              "      <th>4</th>\n",
              "      <td>3.5</td>\n",
              "      <td>30</td>\n",
              "    </tr>\n",
              "    <tr>\n",
              "      <th>5</th>\n",
              "      <td>1.5</td>\n",
              "      <td>20</td>\n",
              "    </tr>\n",
              "    <tr>\n",
              "      <th>6</th>\n",
              "      <td>9.2</td>\n",
              "      <td>88</td>\n",
              "    </tr>\n",
              "    <tr>\n",
              "      <th>7</th>\n",
              "      <td>5.5</td>\n",
              "      <td>60</td>\n",
              "    </tr>\n",
              "    <tr>\n",
              "      <th>8</th>\n",
              "      <td>8.3</td>\n",
              "      <td>81</td>\n",
              "    </tr>\n",
              "    <tr>\n",
              "      <th>9</th>\n",
              "      <td>2.7</td>\n",
              "      <td>25</td>\n",
              "    </tr>\n",
              "  </tbody>\n",
              "</table>\n",
              "</div>"
            ],
            "text/plain": [
              "   Hours  Scores\n",
              "0    2.5      21\n",
              "1    5.1      47\n",
              "2    3.2      27\n",
              "3    8.5      75\n",
              "4    3.5      30\n",
              "5    1.5      20\n",
              "6    9.2      88\n",
              "7    5.5      60\n",
              "8    8.3      81\n",
              "9    2.7      25"
            ]
          },
          "metadata": {
            "tags": []
          },
          "execution_count": 4
        }
      ]
    },
    {
      "cell_type": "markdown",
      "metadata": {
        "id": "IcMQ88UTtJPK"
      },
      "source": [
        "### **Step 2 - Input data Visualization**"
      ]
    },
    {
      "cell_type": "code",
      "metadata": {
        "id": "TWPnZjW1tTa_",
        "colab": {
          "base_uri": "https://localhost:8080/",
          "height": 294
        },
        "outputId": "59c68620-c6a6-4e31-ad5a-17e3701b5c69"
      },
      "source": [
        "# Plotting the distribution of \n",
        "df.plot(x='Hours', y='Scores', style='o')  \n",
        "plt.title('Hours vs Scores')  \n",
        "plt.xlabel('Students Studied Hours')  \n",
        "plt.ylabel('Students Scores')  \n",
        "plt.show()"
      ],
      "execution_count": 5,
      "outputs": [
        {
          "output_type": "display_data",
          "data": {
            "image/png": "[encoded data removed]",
            "text/plain": [
              "<Figure size 432x288 with 1 Axes>"
            ]
          },
          "metadata": {
            "tags": [],
            "needs_background": "light"
          }
        }
      ]
    },
    {
      "cell_type": "markdown",
      "metadata": {
        "id": "5EdqQGT2tu1u"
      },
      "source": [
        "From the graph we can see a positive linear relation between the Students Studied Hours and Students Scores.\n",
        "### **Step 3 - Data Preprocessing**\n",
        "Division of data into Independent Variable and Dependent Variable."
      ]
    },
    {
      "cell_type": "code",
      "metadata": {
        "id": "Yz9dPloLvYuX",
        "colab": {
          "base_uri": "https://localhost:8080/"
        },
        "outputId": "7db61c32-d29a-43db-ca72-371bd4e0a1e6"
      },
      "source": [
        "X = df.iloc[:, :-1].values \n",
        "print(X)\n",
        "Y = df.iloc[:, 1].values\n",
        "print(Y)"
      ],
      "execution_count": 38,
      "outputs": [
        {
          "output_type": "stream",
          "text": [
            "[[2.5]\n",
            " [5.1]\n",
            " [3.2]\n",
            " [8.5]\n",
            " [3.5]\n",
            " [1.5]\n",
            " [9.2]\n",
            " [5.5]\n",
            " [8.3]\n",
            " [2.7]\n",
            " [7.7]\n",
            " [5.9]\n",
            " [4.5]\n",
            " [3.3]\n",
            " [1.1]\n",
            " [8.9]\n",
            " [2.5]\n",
            " [1.9]\n",
            " [6.1]\n",
            " [7.4]\n",
            " [2.7]\n",
            " [4.8]\n",
            " [3.8]\n",
            " [6.9]\n",
            " [7.8]]\n",
            "[21 47 27 75 30 20 88 60 81 25 85 62 41 42 17 95 30 24 67 69 30 54 35 76\n",
            " 86]\n"
          ],
          "name": "stdout"
        }
      ]
    },
    {
      "cell_type": "markdown",
      "metadata": {
        "id": "rpmEXsWWv58q"
      },
      "source": [
        "### **Step 4 - Train and Test spilt**\n",
        "Splitting the data into training and testing sets\n"
      ]
    },
    {
      "cell_type": "code",
      "metadata": {
        "id": "1st6F2u3waJb"
      },
      "source": [
        "X_train, X_test, Y_train, Y_test = train_test_split(X, Y, test_size=0.2, random_state=0)"
      ],
      "execution_count": 39,
      "outputs": []
    },
    {
      "cell_type": "markdown",
      "metadata": {
        "id": "vAgMoaM5w6w-"
      },
      "source": [
        "### **Step 5 - Model Training**\n",
        "Training the algorithm"
      ]
    },
    {
      "cell_type": "code",
      "metadata": {
        "id": "XS-cSp_yxOMm",
        "colab": {
          "base_uri": "https://localhost:8080/"
        },
        "outputId": "0c9704f1-5d3c-4abc-a6f7-d0d03f039055"
      },
      "source": [
        "reg = LinearRegression()  \n",
        "reg.fit(X_train.reshape(-1,1), Y_train) "
      ],
      "execution_count": 43,
      "outputs": [
        {
          "output_type": "execute_result",
          "data": {
            "text/plain": [
              "LinearRegression(copy_X=True, fit_intercept=True, n_jobs=None, normalize=False)"
            ]
          },
          "metadata": {
            "tags": []
          },
          "execution_count": 43
        }
      ]
    },
    {
      "cell_type": "markdown",
      "metadata": {
        "id": "ajN48rFGxa2D"
      },
      "source": [
        "### **Step 6 - Plotting the Line of regression**\n",
        "To visualize the best-fit line of regression"
      ]
    },
    {
      "cell_type": "code",
      "metadata": {
        "id": "iPi0QjuPxrlB",
        "colab": {
          "base_uri": "https://localhost:8080/",
          "height": 264
        },
        "outputId": "b02df737-e5c1-464d-e8f1-da5ba34e3911"
      },
      "source": [
        "# Plotting the regression line\n",
        "line = reg.coef_*X+reg.intercept_\n",
        "\n",
        "# Plotting for the test data\n",
        "plt.scatter(X, Y)\n",
        "plt.plot(X, line,color='orange');\n",
        "plt.show()"
      ],
      "execution_count": 45,
      "outputs": [
        {
          "output_type": "display_data",
          "data": {
            "image/png": "[encoded data removed]",
            "text/plain": [
              "<Figure size 432x288 with 1 Axes>"
            ]
          },
          "metadata": {
            "tags": [],
            "needs_background": "light"
          }
        }
      ]
    },
    {
      "cell_type": "markdown",
      "metadata": {
        "id": "VUzGPpSqyJo5"
      },
      "source": [
        "### **Step 7 - Predictions for Testing Model**\n",
        "We have trained our algorithm, it's time to test the model by making some predictions"
      ]
    },
    {
      "cell_type": "code",
      "metadata": {
        "id": "M8MUwtBkyxkb",
        "colab": {
          "base_uri": "https://localhost:8080/"
        },
        "outputId": "0ae5297b-d2f4-4ef6-f7ca-d31761c21bfd"
      },
      "source": [
        "# Testing data\n",
        "print(X_test)\n",
        "# Model Prediction \n",
        "Y_pred = reg.predict(X_test.reshape(-1, 1))\n",
        "print(Y_pred)"
      ],
      "execution_count": 20,
      "outputs": [
        {
          "output_type": "stream",
          "text": [
            "[[1.5]\n",
            " [3.2]\n",
            " [7.4]\n",
            " [2.5]\n",
            " [5.9]]\n",
            "[16.88414476 33.73226078 75.357018   26.79480124 60.49103328]\n"
          ],
          "name": "stdout"
        }
      ]
    },
    {
      "cell_type": "markdown",
      "metadata": {
        "id": "Q84aTKmyy9-H"
      },
      "source": [
        "### **Step 8 - Comparing Result**"
      ]
    },
    {
      "cell_type": "code",
      "metadata": {
        "id": "DZ4675bAzN7T",
        "colab": {
          "base_uri": "https://localhost:8080/",
          "height": 197
        },
        "outputId": "67c9bea3-3d5e-47ce-ad5b-26e004137cca"
      },
      "source": [
        "# Comparing Actual vs Predicted\n",
        "comp = pd.DataFrame({'Actual': Y_test, 'Predicted': Y_pred}) \n",
        "comp"
      ],
      "execution_count": 21,
      "outputs": [
        {
          "output_type": "execute_result",
          "data": {
            "text/html": [
              "<div>\n",
              "<style scoped>\n",
              "    .dataframe tbody tr th:only-of-type {\n",
              "        vertical-align: middle;\n",
              "    }\n",
              "\n",
              "    .dataframe tbody tr th {\n",
              "        vertical-align: top;\n",
              "    }\n",
              "\n",
              "    .dataframe thead th {\n",
              "        text-align: right;\n",
              "    }\n",
              "</style>\n",
              "<table border=\"1\" class=\"dataframe\">\n",
              "  <thead>\n",
              "    <tr style=\"text-align: right;\">\n",
              "      <th></th>\n",
              "      <th>Actual</th>\n",
              "      <th>Predicted</th>\n",
              "    </tr>\n",
              "  </thead>\n",
              "  <tbody>\n",
              "    <tr>\n",
              "      <th>0</th>\n",
              "      <td>20</td>\n",
              "      <td>16.884145</td>\n",
              "    </tr>\n",
              "    <tr>\n",
              "      <th>1</th>\n",
              "      <td>27</td>\n",
              "      <td>33.732261</td>\n",
              "    </tr>\n",
              "    <tr>\n",
              "      <th>2</th>\n",
              "      <td>69</td>\n",
              "      <td>75.357018</td>\n",
              "    </tr>\n",
              "    <tr>\n",
              "      <th>3</th>\n",
              "      <td>30</td>\n",
              "      <td>26.794801</td>\n",
              "    </tr>\n",
              "    <tr>\n",
              "      <th>4</th>\n",
              "      <td>62</td>\n",
              "      <td>60.491033</td>\n",
              "    </tr>\n",
              "  </tbody>\n",
              "</table>\n",
              "</div>"
            ],
            "text/plain": [
              "   Actual  Predicted\n",
              "0      20  16.884145\n",
              "1      27  33.732261\n",
              "2      69  75.357018\n",
              "3      30  26.794801\n",
              "4      62  60.491033"
            ]
          },
          "metadata": {
            "tags": []
          },
          "execution_count": 21
        }
      ]
    },
    {
      "cell_type": "code",
      "metadata": {
        "id": "k018zk9Pz4pf",
        "colab": {
          "base_uri": "https://localhost:8080/"
        },
        "outputId": "411883fe-a7c4-4dce-f781-09fb5c2569dc"
      },
      "source": [
        "#Estimating training and test score\n",
        "train = reg.score(X_train,Y_train)\n",
        "print(\"Training Score:\",train)\n",
        "\n",
        "test = reg.score(X_test,Y_test)\n",
        "print(\"Test Score:\",test)"
      ],
      "execution_count": 23,
      "outputs": [
        {
          "output_type": "stream",
          "text": [
            "Training Score: 0.9515510725211553\n",
            "Test Score: 0.9454906892105354\n"
          ],
          "name": "stdout"
        }
      ]
    },
    {
      "cell_type": "code",
      "metadata": {
        "colab": {
          "base_uri": "https://localhost:8080/",
          "height": 587
        },
        "id": "iHou9jap1RNN",
        "outputId": "50e88c81-6a5f-4dc4-c690-725027be5044"
      },
      "source": [
        "# Plotting the Bar graph between Actual and Predicted value\n",
        "comp.plot(kind='bar',figsize=(10,10))\n",
        "plt.grid(which='major', linewidth='0.5', color='red')\n",
        "plt.grid(which='minor', linewidth='0.5', color='blue')\n",
        "plt.show()"
      ],
      "execution_count": 33,
      "outputs": [
        {
          "output_type": "display_data",
          "data": {
            "image/png": "[encoded data removed]",
            "text/plain": [
              "<Figure size 720x720 with 1 Axes>"
            ]
          },
          "metadata": {
            "tags": [],
            "needs_background": "light"
          }
        }
      ]
    },
    {
      "cell_type": "markdown",
      "metadata": {
        "id": "WKuk0xy93DdH"
      },
      "source": [
        "### **Step 9 - Statistical Evaluation**\n",
        "This step is to evaluate the performance of algorithm"
      ]
    },
    {
      "cell_type": "code",
      "metadata": {
        "colab": {
          "base_uri": "https://localhost:8080/"
        },
        "id": "zpQSCSNX3Uf1",
        "outputId": "0730c129-bf1e-4514-f4b8-70f80ab1f4b6"
      },
      "source": [
        "from sklearn import metrics  \n",
        "print('Mean Absolute Error:',metrics.mean_absolute_error(Y_test, Y_pred)) \n",
        "print('Mean Squared Error:', metrics.mean_squared_error(Y_test, Y_pred))\n",
        "print('Root Mean Squared Error:', np.sqrt(metrics.mean_squared_error(Y_test, Y_pred)))\n",
        "print('R-2:', metrics.r2_score(Y_test, Y_pred))"
      ],
      "execution_count": 31,
      "outputs": [
        {
          "output_type": "stream",
          "text": [
            "Mean Absolute Error: 4.183859899002982\n",
            "Mean Squared Error: 21.598769307217456\n",
            "Root Mean Squared Error: 4.647447612100373\n",
            "R-2: 0.9454906892105354\n"
          ],
          "name": "stdout"
        }
      ]
    },
    {
      "cell_type": "markdown",
      "metadata": {
        "id": "Z_ggYsyETxQf"
      },
      "source": [
        "R-2 gives the score of model fit and in this case we have R-2 = 0.9454906892105354 which is actually a good score for this model.\n",
        "\n"
      ]
    },
    {
      "cell_type": "code",
      "metadata": {
        "colab": {
          "base_uri": "https://localhost:8080/"
        },
        "id": "WhyiE0z_r7-V",
        "outputId": "5d5aa7e2-7266-4d89-a3a6-8c5c300ac407"
      },
      "source": [
        "# Testing the model with our own data\n",
        "Student_Score = 9.25\n",
        "testing = np.array([Student_Score])\n",
        "testing = testing.reshape(-1, 1)\n",
        "testing_pred = reg.predict(testing)\n",
        "print(\"No of Hours = {}\".format(Student_Score))\n",
        "print(\"Predicted Score = {}\".format(testing_pred[0]))"
      ],
      "execution_count": 42,
      "outputs": [
        {
          "output_type": "stream",
          "text": [
            "No of Hours = 9.25\n",
            "Predicted Score = 93.69173248737539\n"
          ],
          "name": "stdout"
        }
      ]
    },
    {
      "cell_type": "markdown",
      "metadata": {
        "id": "oH-3IQIsr-YJ"
      },
      "source": [
        "\n",
        "##### **93.69173248737539 will be predicted score if a student study for 9.25 hrs in a day.**\n",
        "\n",
        "\n",
        "### **Conclusion:**\n",
        "\n",
        "#### **I was successfully able to carry-out Prediction using Supervised ML task and was able to evaluate the model's performance on various parameters.**\n",
        "\n",
        "### **Thank You**"
      ]
    }
  ]
}